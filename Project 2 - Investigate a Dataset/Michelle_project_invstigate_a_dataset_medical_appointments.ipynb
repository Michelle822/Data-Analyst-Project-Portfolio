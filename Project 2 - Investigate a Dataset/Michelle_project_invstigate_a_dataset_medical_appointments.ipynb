{
 "cells": [
  {
   "cell_type": "markdown",
   "metadata": {},
   "source": [
    "# Project: No-show appointments dataset\n",
    "\n",
    "Michelle Leemans (May, 2020)\n",
    "\n",
    "## Table of contents\n",
    "<ul>\n",
    "<li><a href=\"#Introduction\">Introduction</a></li>\n",
    "<li><a href=\"#Wrangling\">Data wrangling</a></li>\n",
    "<li><a href=\"#eda\">Answer two Questions by visualization of the data</a></li>\n",
    "<li><a href=\"#conclusions\">Conclusions</a></li>\n",
    "</ul>\n",
    "\n",
    "## Introduction\n",
    "In this project I investigate a dataset entitled no-show appointments. This dataset assembles information > 100 000 K medical appointments in Brazil and is concentrated on the question whether or not patients get in for their appointments. Various characteristics about the patient are included within the dataset, including: \n",
    "\n",
    "1. Patient ID\n",
    "1. Appointment ID\n",
    "1. Gender\n",
    "1. The scheduled day of the appointment\n",
    "1. The date of the actual appointment\n",
    "1. The age of the patient\n",
    "1. The location of the hospital\n",
    "1. If the patient is enrolled in Brazilian welfare program\n",
    "1. If the patient suffers from hypertension, diabetes, a certain handicap or alcoholism\n",
    "1. Whether or not the patient showed up to the appointment\n",
    "1. The location of the hospital\n",
    "1. If the patient received any SMS-reminder or not"
   ]
  },
  {
   "cell_type": "markdown",
   "metadata": {},
   "source": [
    "<a id='Wrangling'></a>\n",
    "## Data Wrangling\n"
   ]
  },
  {
   "cell_type": "markdown",
   "metadata": {},
   "source": [
    "**Import all necesarry libraries**"
   ]
  },
  {
   "cell_type": "code",
   "execution_count": 2,
   "metadata": {},
   "outputs": [],
   "source": [
    "import numpy as np\n",
    "import pandas as pd\n",
    "import matplotlib.pyplot as plt\n",
    "import seaborn as sns\n",
    "%matplotlib inline\n",
    "\n"
   ]
  },
  {
   "cell_type": "markdown",
   "metadata": {},
   "source": [
    "**Load data and show first 5 lines of the datasset.** "
   ]
  },
  {
   "cell_type": "code",
   "execution_count": 3,
   "metadata": {},
   "outputs": [
    {
     "name": "stdout",
     "output_type": "stream",
     "text": [
      "      PatientId  AppointmentID Gender          ScheduledDay  \\\n",
      "0  2.987250e+13        5642903      F  2016-04-29T18:38:08Z   \n",
      "1  5.589978e+14        5642503      M  2016-04-29T16:08:27Z   \n",
      "2  4.262962e+12        5642549      F  2016-04-29T16:19:04Z   \n",
      "3  8.679512e+11        5642828      F  2016-04-29T17:29:31Z   \n",
      "4  8.841186e+12        5642494      F  2016-04-29T16:07:23Z   \n",
      "\n",
      "         AppointmentDay  Age      Neighbourhood  Scholarship  Hipertension  \\\n",
      "0  2016-04-29T00:00:00Z   62    JARDIM DA PENHA            0             1   \n",
      "1  2016-04-29T00:00:00Z   56    JARDIM DA PENHA            0             0   \n",
      "2  2016-04-29T00:00:00Z   62      MATA DA PRAIA            0             0   \n",
      "3  2016-04-29T00:00:00Z    8  PONTAL DE CAMBURI            0             0   \n",
      "4  2016-04-29T00:00:00Z   56    JARDIM DA PENHA            0             1   \n",
      "\n",
      "   Diabetes  Alcoholism  Handcap  SMS_received No-show  \n",
      "0         0           0        0             0      No  \n",
      "1         0           0        0             0      No  \n",
      "2         0           0        0             0      No  \n",
      "3         0           0        0             0      No  \n",
      "4         1           0        0             0      No  \n"
     ]
    }
   ],
   "source": [
    "df = pd.read_csv('noshowappointments-kagglev2-may-2016.csv')\n",
    "print(df.head(5))\n",
    "\n",
    "\n",
    "\n"
   ]
  },
  {
   "cell_type": "markdown",
   "metadata": {},
   "source": [
    "\n",
    "**Print statistics about the dataset**\n"
   ]
  },
  {
   "cell_type": "code",
   "execution_count": 4,
   "metadata": {},
   "outputs": [
    {
     "name": "stdout",
     "output_type": "stream",
     "text": [
      "          PatientId  AppointmentID            Age    Scholarship  \\\n",
      "count  1.105270e+05   1.105270e+05  110527.000000  110527.000000   \n",
      "mean   1.474963e+14   5.675305e+06      37.088874       0.098266   \n",
      "std    2.560949e+14   7.129575e+04      23.110205       0.297675   \n",
      "min    3.921784e+04   5.030230e+06      -1.000000       0.000000   \n",
      "25%    4.172614e+12   5.640286e+06      18.000000       0.000000   \n",
      "50%    3.173184e+13   5.680573e+06      37.000000       0.000000   \n",
      "75%    9.439172e+13   5.725524e+06      55.000000       0.000000   \n",
      "max    9.999816e+14   5.790484e+06     115.000000       1.000000   \n",
      "\n",
      "        Hipertension       Diabetes     Alcoholism        Handcap  \\\n",
      "count  110527.000000  110527.000000  110527.000000  110527.000000   \n",
      "mean        0.197246       0.071865       0.030400       0.022248   \n",
      "std         0.397921       0.258265       0.171686       0.161543   \n",
      "min         0.000000       0.000000       0.000000       0.000000   \n",
      "25%         0.000000       0.000000       0.000000       0.000000   \n",
      "50%         0.000000       0.000000       0.000000       0.000000   \n",
      "75%         0.000000       0.000000       0.000000       0.000000   \n",
      "max         1.000000       1.000000       1.000000       4.000000   \n",
      "\n",
      "        SMS_received  \n",
      "count  110527.000000  \n",
      "mean        0.321026  \n",
      "std         0.466873  \n",
      "min         0.000000  \n",
      "25%         0.000000  \n",
      "50%         0.000000  \n",
      "75%         1.000000  \n",
      "max         1.000000  \n"
     ]
    }
   ],
   "source": [
    "print(df.describe())"
   ]
  },
  {
   "cell_type": "markdown",
   "metadata": {},
   "source": [
    "**Print the size of the dataset.** "
   ]
  },
  {
   "cell_type": "code",
   "execution_count": 5,
   "metadata": {},
   "outputs": [
    {
     "name": "stdout",
     "output_type": "stream",
     "text": [
      "(110527, 14)\n"
     ]
    }
   ],
   "source": [
    "print(df.shape)"
   ]
  },
  {
   "cell_type": "markdown",
   "metadata": {},
   "source": [
    "There are 110527 records and 14 columns in the dataset. "
   ]
  },
  {
   "cell_type": "markdown",
   "metadata": {},
   "source": [
    "**Print some histograms from the dataset** "
   ]
  },
  {
   "cell_type": "code",
   "execution_count": 6,
   "metadata": {},
   "outputs": [
    {
     "name": "stdout",
     "output_type": "stream",
     "text": [
      "[[<matplotlib.axes._subplots.AxesSubplot object at 0x0000023ED7D825C8>\n",
      "  <matplotlib.axes._subplots.AxesSubplot object at 0x0000023ED839A608>\n",
      "  <matplotlib.axes._subplots.AxesSubplot object at 0x0000023ED90055C8>]\n",
      " [<matplotlib.axes._subplots.AxesSubplot object at 0x0000023ED903D6C8>\n",
      "  <matplotlib.axes._subplots.AxesSubplot object at 0x0000023ED9073788>\n",
      "  <matplotlib.axes._subplots.AxesSubplot object at 0x0000023ED90AD8C8>]\n",
      " [<matplotlib.axes._subplots.AxesSubplot object at 0x0000023ED90E59C8>\n",
      "  <matplotlib.axes._subplots.AxesSubplot object at 0x0000023ED911CA08>\n",
      "  <matplotlib.axes._subplots.AxesSubplot object at 0x0000023ED9129608>]]\n"
     ]
    },
    {
     "data": {
      "image/png": "[encoded data removed]",
      "text/plain": [
       "<Figure size 720x576 with 9 Axes>"
      ]
     },
     "metadata": {
      "needs_background": "light"
     },
     "output_type": "display_data"
    }
   ],
   "source": [
    "print(df.hist(figsize=(10,8)));"
   ]
  },
  {
   "cell_type": "markdown",
   "metadata": {},
   "source": [
    "**Checking for null values**"
   ]
  },
  {
   "cell_type": "code",
   "execution_count": 7,
   "metadata": {},
   "outputs": [
    {
     "data": {
      "text/plain": [
       "PatientId         0\n",
       "AppointmentID     0\n",
       "Gender            0\n",
       "ScheduledDay      0\n",
       "AppointmentDay    0\n",
       "Age               0\n",
       "Neighbourhood     0\n",
       "Scholarship       0\n",
       "Hipertension      0\n",
       "Diabetes          0\n",
       "Alcoholism        0\n",
       "Handcap           0\n",
       "SMS_received      0\n",
       "No-show           0\n",
       "dtype: int64"
      ]
     },
     "execution_count": 7,
     "metadata": {},
     "output_type": "execute_result"
    }
   ],
   "source": [
    "pd.isna(df).sum()\n",
    "# The data has no null values"
   ]
  },
  {
   "cell_type": "markdown",
   "metadata": {},
   "source": [
    "**Print another view of the dataset**"
   ]
  },
  {
   "cell_type": "code",
   "execution_count": 8,
   "metadata": {},
   "outputs": [
    {
     "name": "stdout",
     "output_type": "stream",
     "text": [
      "<class 'pandas.core.frame.DataFrame'>\n",
      "RangeIndex: 110527 entries, 0 to 110526\n",
      "Data columns (total 14 columns):\n",
      " #   Column          Non-Null Count   Dtype  \n",
      "---  ------          --------------   -----  \n",
      " 0   PatientId       110527 non-null  float64\n",
      " 1   AppointmentID   110527 non-null  int64  \n",
      " 2   Gender          110527 non-null  object \n",
      " 3   ScheduledDay    110527 non-null  object \n",
      " 4   AppointmentDay  110527 non-null  object \n",
      " 5   Age             110527 non-null  int64  \n",
      " 6   Neighbourhood   110527 non-null  object \n",
      " 7   Scholarship     110527 non-null  int64  \n",
      " 8   Hipertension    110527 non-null  int64  \n",
      " 9   Diabetes        110527 non-null  int64  \n",
      " 10  Alcoholism      110527 non-null  int64  \n",
      " 11  Handcap         110527 non-null  int64  \n",
      " 12  SMS_received    110527 non-null  int64  \n",
      " 13  No-show         110527 non-null  object \n",
      "dtypes: float64(1), int64(8), object(5)\n",
      "memory usage: 11.8+ MB\n"
     ]
    }
   ],
   "source": [
    "df.info()"
   ]
  },
  {
   "cell_type": "markdown",
   "metadata": {},
   "source": [
    "**First observations made:**\n",
    "1. The dataset does not contain any missing values.\n",
    "1. The patientid is a float and should be an integer.\n",
    "1. The sheduledday and appointment day column types should be converted to datetime.\n",
    "1. There are typos in the column names and confusing capital letters.\n",
    "1. No column containing the time between the date appointment made and the actual appointment.\n",
    "1. There are negative values in the age, this is not possible and will be replaced by the mean age.\n",
    "\n"
   ]
  },
  {
   "cell_type": "markdown",
   "metadata": {},
   "source": [
    "**Observation 2: The patient is a float and should be an integer**"
   ]
  },
  {
   "cell_type": "code",
   "execution_count": 9,
   "metadata": {},
   "outputs": [
    {
     "name": "stdout",
     "output_type": "stream",
     "text": [
      "<class 'pandas.core.frame.DataFrame'>\n",
      "RangeIndex: 110527 entries, 0 to 110526\n",
      "Data columns (total 14 columns):\n",
      " #   Column          Non-Null Count   Dtype \n",
      "---  ------          --------------   ----- \n",
      " 0   PatientId       110527 non-null  int32 \n",
      " 1   AppointmentID   110527 non-null  int64 \n",
      " 2   Gender          110527 non-null  object\n",
      " 3   ScheduledDay    110527 non-null  object\n",
      " 4   AppointmentDay  110527 non-null  object\n",
      " 5   Age             110527 non-null  int64 \n",
      " 6   Neighbourhood   110527 non-null  object\n",
      " 7   Scholarship     110527 non-null  int64 \n",
      " 8   Hipertension    110527 non-null  int64 \n",
      " 9   Diabetes        110527 non-null  int64 \n",
      " 10  Alcoholism      110527 non-null  int64 \n",
      " 11  Handcap         110527 non-null  int64 \n",
      " 12  SMS_received    110527 non-null  int64 \n",
      " 13  No-show         110527 non-null  object\n",
      "dtypes: int32(1), int64(8), object(5)\n",
      "memory usage: 11.4+ MB\n"
     ]
    }
   ],
   "source": [
    "df['PatientId']=df['PatientId'].astype(int)\n",
    "df.info()"
   ]
  },
  {
   "cell_type": "markdown",
   "metadata": {},
   "source": [
    "**Observation 3: Fixing the datetime datatypes in ScheduleDay and AppointmentDay**"
   ]
  },
  {
   "cell_type": "code",
   "execution_count": 10,
   "metadata": {},
   "outputs": [
    {
     "name": "stdout",
     "output_type": "stream",
     "text": [
      "<class 'pandas.core.frame.DataFrame'>\n",
      "RangeIndex: 110527 entries, 0 to 110526\n",
      "Data columns (total 14 columns):\n",
      " #   Column          Non-Null Count   Dtype              \n",
      "---  ------          --------------   -----              \n",
      " 0   PatientId       110527 non-null  int32              \n",
      " 1   AppointmentID   110527 non-null  int64              \n",
      " 2   Gender          110527 non-null  object             \n",
      " 3   ScheduledDay    110527 non-null  datetime64[ns, UTC]\n",
      " 4   AppointmentDay  110527 non-null  datetime64[ns, UTC]\n",
      " 5   Age             110527 non-null  int64              \n",
      " 6   Neighbourhood   110527 non-null  object             \n",
      " 7   Scholarship     110527 non-null  int64              \n",
      " 8   Hipertension    110527 non-null  int64              \n",
      " 9   Diabetes        110527 non-null  int64              \n",
      " 10  Alcoholism      110527 non-null  int64              \n",
      " 11  Handcap         110527 non-null  int64              \n",
      " 12  SMS_received    110527 non-null  int64              \n",
      " 13  No-show         110527 non-null  object             \n",
      "dtypes: datetime64[ns, UTC](2), int32(1), int64(8), object(3)\n",
      "memory usage: 11.4+ MB\n"
     ]
    }
   ],
   "source": [
    "df['AppointmentDay'] = pd.to_datetime(df['AppointmentDay'])\n",
    "df['ScheduledDay'] = pd.to_datetime(df['ScheduledDay'])\n",
    "df.info()"
   ]
  },
  {
   "cell_type": "markdown",
   "metadata": {},
   "source": [
    "**Observation 4: Fixing typos in data column names and make column names all lower case**"
   ]
  },
  {
   "cell_type": "code",
   "execution_count": 11,
   "metadata": {},
   "outputs": [
    {
     "data": {
      "text/html": [
       "<div>\n",
       "<style scoped>\n",
       "    .dataframe tbody tr th:only-of-type {\n",
       "        vertical-align: middle;\n",
       "    }\n",
       "\n",
       "    .dataframe tbody tr th {\n",
       "        vertical-align: top;\n",
       "    }\n",
       "\n",
       "    .dataframe thead th {\n",
       "        text-align: right;\n",
       "    }\n",
       "</style>\n",
       "<table border=\"1\" class=\"dataframe\">\n",
       "  <thead>\n",
       "    <tr style=\"text-align: right;\">\n",
       "      <th></th>\n",
       "      <th>patientid</th>\n",
       "      <th>appointmentid</th>\n",
       "      <th>gender</th>\n",
       "      <th>scheduledday</th>\n",
       "      <th>appointmentday</th>\n",
       "      <th>age</th>\n",
       "      <th>neighbourhood</th>\n",
       "      <th>scholarship</th>\n",
       "      <th>hypertension</th>\n",
       "      <th>diabetes</th>\n",
       "      <th>alcoholism</th>\n",
       "      <th>handicap</th>\n",
       "      <th>sms_received</th>\n",
       "      <th>no_show</th>\n",
       "    </tr>\n",
       "  </thead>\n",
       "  <tbody>\n",
       "    <tr>\n",
       "      <th>0</th>\n",
       "      <td>-2147483648</td>\n",
       "      <td>5642903</td>\n",
       "      <td>F</td>\n",
       "      <td>2016-04-29 18:38:08+00:00</td>\n",
       "      <td>2016-04-29 00:00:00+00:00</td>\n",
       "      <td>62</td>\n",
       "      <td>JARDIM DA PENHA</td>\n",
       "      <td>0</td>\n",
       "      <td>1</td>\n",
       "      <td>0</td>\n",
       "      <td>0</td>\n",
       "      <td>0</td>\n",
       "      <td>0</td>\n",
       "      <td>No</td>\n",
       "    </tr>\n",
       "    <tr>\n",
       "      <th>1</th>\n",
       "      <td>-2147483648</td>\n",
       "      <td>5642503</td>\n",
       "      <td>M</td>\n",
       "      <td>2016-04-29 16:08:27+00:00</td>\n",
       "      <td>2016-04-29 00:00:00+00:00</td>\n",
       "      <td>56</td>\n",
       "      <td>JARDIM DA PENHA</td>\n",
       "      <td>0</td>\n",
       "      <td>0</td>\n",
       "      <td>0</td>\n",
       "      <td>0</td>\n",
       "      <td>0</td>\n",
       "      <td>0</td>\n",
       "      <td>No</td>\n",
       "    </tr>\n",
       "    <tr>\n",
       "      <th>2</th>\n",
       "      <td>-2147483648</td>\n",
       "      <td>5642549</td>\n",
       "      <td>F</td>\n",
       "      <td>2016-04-29 16:19:04+00:00</td>\n",
       "      <td>2016-04-29 00:00:00+00:00</td>\n",
       "      <td>62</td>\n",
       "      <td>MATA DA PRAIA</td>\n",
       "      <td>0</td>\n",
       "      <td>0</td>\n",
       "      <td>0</td>\n",
       "      <td>0</td>\n",
       "      <td>0</td>\n",
       "      <td>0</td>\n",
       "      <td>No</td>\n",
       "    </tr>\n",
       "    <tr>\n",
       "      <th>3</th>\n",
       "      <td>-2147483648</td>\n",
       "      <td>5642828</td>\n",
       "      <td>F</td>\n",
       "      <td>2016-04-29 17:29:31+00:00</td>\n",
       "      <td>2016-04-29 00:00:00+00:00</td>\n",
       "      <td>8</td>\n",
       "      <td>PONTAL DE CAMBURI</td>\n",
       "      <td>0</td>\n",
       "      <td>0</td>\n",
       "      <td>0</td>\n",
       "      <td>0</td>\n",
       "      <td>0</td>\n",
       "      <td>0</td>\n",
       "      <td>No</td>\n",
       "    </tr>\n",
       "    <tr>\n",
       "      <th>4</th>\n",
       "      <td>-2147483648</td>\n",
       "      <td>5642494</td>\n",
       "      <td>F</td>\n",
       "      <td>2016-04-29 16:07:23+00:00</td>\n",
       "      <td>2016-04-29 00:00:00+00:00</td>\n",
       "      <td>56</td>\n",
       "      <td>JARDIM DA PENHA</td>\n",
       "      <td>0</td>\n",
       "      <td>1</td>\n",
       "      <td>1</td>\n",
       "      <td>0</td>\n",
       "      <td>0</td>\n",
       "      <td>0</td>\n",
       "      <td>No</td>\n",
       "    </tr>\n",
       "  </tbody>\n",
       "</table>\n",
       "</div>"
      ],
      "text/plain": [
       "    patientid  appointmentid gender              scheduledday  \\\n",
       "0 -2147483648        5642903      F 2016-04-29 18:38:08+00:00   \n",
       "1 -2147483648        5642503      M 2016-04-29 16:08:27+00:00   \n",
       "2 -2147483648        5642549      F 2016-04-29 16:19:04+00:00   \n",
       "3 -2147483648        5642828      F 2016-04-29 17:29:31+00:00   \n",
       "4 -2147483648        5642494      F 2016-04-29 16:07:23+00:00   \n",
       "\n",
       "             appointmentday  age      neighbourhood  scholarship  \\\n",
       "0 2016-04-29 00:00:00+00:00   62    JARDIM DA PENHA            0   \n",
       "1 2016-04-29 00:00:00+00:00   56    JARDIM DA PENHA            0   \n",
       "2 2016-04-29 00:00:00+00:00   62      MATA DA PRAIA            0   \n",
       "3 2016-04-29 00:00:00+00:00    8  PONTAL DE CAMBURI            0   \n",
       "4 2016-04-29 00:00:00+00:00   56    JARDIM DA PENHA            0   \n",
       "\n",
       "   hypertension  diabetes  alcoholism  handicap  sms_received no_show  \n",
       "0             1         0           0         0             0      No  \n",
       "1             0         0           0         0             0      No  \n",
       "2             0         0           0         0             0      No  \n",
       "3             0         0           0         0             0      No  \n",
       "4             1         1           0         0             0      No  "
      ]
     },
     "execution_count": 11,
     "metadata": {},
     "output_type": "execute_result"
    }
   ],
   "source": [
    "df.rename(columns = {'Hipertension': 'Hypertension', 'Handcap': 'Handicap', 'No-show': 'No_show'}, inplace = True)\n",
    "df.columns = map(str.lower, df.columns)\n",
    "df.head()"
   ]
  },
  {
   "cell_type": "markdown",
   "metadata": {},
   "source": [
    "**Observation 5: Create a new column containing the awaiting_time_in_days**"
   ]
  },
  {
   "cell_type": "code",
   "execution_count": 12,
   "metadata": {},
   "outputs": [
    {
     "name": "stdout",
     "output_type": "stream",
     "text": [
      "<class 'pandas.core.frame.DataFrame'>\n",
      "RangeIndex: 110527 entries, 0 to 110526\n",
      "Data columns (total 15 columns):\n",
      " #   Column                 Non-Null Count   Dtype              \n",
      "---  ------                 --------------   -----              \n",
      " 0   patientid              110527 non-null  int32              \n",
      " 1   appointmentid          110527 non-null  int64              \n",
      " 2   gender                 110527 non-null  object             \n",
      " 3   scheduledday           110527 non-null  datetime64[ns, UTC]\n",
      " 4   appointmentday         110527 non-null  datetime64[ns, UTC]\n",
      " 5   age                    110527 non-null  int64              \n",
      " 6   neighbourhood          110527 non-null  object             \n",
      " 7   scholarship            110527 non-null  int64              \n",
      " 8   hypertension           110527 non-null  int64              \n",
      " 9   diabetes               110527 non-null  int64              \n",
      " 10  alcoholism             110527 non-null  int64              \n",
      " 11  handicap               110527 non-null  int64              \n",
      " 12  sms_received           110527 non-null  int64              \n",
      " 13  no_show                110527 non-null  object             \n",
      " 14  awaiting_time_in_days  110527 non-null  int64              \n",
      "dtypes: datetime64[ns, UTC](2), int32(1), int64(9), object(3)\n",
      "memory usage: 12.2+ MB\n",
      "None\n",
      "9.183701719941734\n"
     ]
    },
    {
     "data": {
      "text/html": [
       "<div>\n",
       "<style scoped>\n",
       "    .dataframe tbody tr th:only-of-type {\n",
       "        vertical-align: middle;\n",
       "    }\n",
       "\n",
       "    .dataframe tbody tr th {\n",
       "        vertical-align: top;\n",
       "    }\n",
       "\n",
       "    .dataframe thead th {\n",
       "        text-align: right;\n",
       "    }\n",
       "</style>\n",
       "<table border=\"1\" class=\"dataframe\">\n",
       "  <thead>\n",
       "    <tr style=\"text-align: right;\">\n",
       "      <th></th>\n",
       "      <th>patientid</th>\n",
       "      <th>appointmentid</th>\n",
       "      <th>gender</th>\n",
       "      <th>scheduledday</th>\n",
       "      <th>appointmentday</th>\n",
       "      <th>age</th>\n",
       "      <th>neighbourhood</th>\n",
       "      <th>scholarship</th>\n",
       "      <th>hypertension</th>\n",
       "      <th>diabetes</th>\n",
       "      <th>alcoholism</th>\n",
       "      <th>handicap</th>\n",
       "      <th>sms_received</th>\n",
       "      <th>no_show</th>\n",
       "      <th>awaiting_time_in_days</th>\n",
       "    </tr>\n",
       "  </thead>\n",
       "  <tbody>\n",
       "    <tr>\n",
       "      <th>0</th>\n",
       "      <td>-2147483648</td>\n",
       "      <td>5642903</td>\n",
       "      <td>F</td>\n",
       "      <td>2016-04-29 18:38:08+00:00</td>\n",
       "      <td>2016-04-29 00:00:00+00:00</td>\n",
       "      <td>62</td>\n",
       "      <td>JARDIM DA PENHA</td>\n",
       "      <td>0</td>\n",
       "      <td>1</td>\n",
       "      <td>0</td>\n",
       "      <td>0</td>\n",
       "      <td>0</td>\n",
       "      <td>0</td>\n",
       "      <td>No</td>\n",
       "      <td>-1</td>\n",
       "    </tr>\n",
       "    <tr>\n",
       "      <th>1</th>\n",
       "      <td>-2147483648</td>\n",
       "      <td>5642503</td>\n",
       "      <td>M</td>\n",
       "      <td>2016-04-29 16:08:27+00:00</td>\n",
       "      <td>2016-04-29 00:00:00+00:00</td>\n",
       "      <td>56</td>\n",
       "      <td>JARDIM DA PENHA</td>\n",
       "      <td>0</td>\n",
       "      <td>0</td>\n",
       "      <td>0</td>\n",
       "      <td>0</td>\n",
       "      <td>0</td>\n",
       "      <td>0</td>\n",
       "      <td>No</td>\n",
       "      <td>-1</td>\n",
       "    </tr>\n",
       "    <tr>\n",
       "      <th>2</th>\n",
       "      <td>-2147483648</td>\n",
       "      <td>5642549</td>\n",
       "      <td>F</td>\n",
       "      <td>2016-04-29 16:19:04+00:00</td>\n",
       "      <td>2016-04-29 00:00:00+00:00</td>\n",
       "      <td>62</td>\n",
       "      <td>MATA DA PRAIA</td>\n",
       "      <td>0</td>\n",
       "      <td>0</td>\n",
       "      <td>0</td>\n",
       "      <td>0</td>\n",
       "      <td>0</td>\n",
       "      <td>0</td>\n",
       "      <td>No</td>\n",
       "      <td>-1</td>\n",
       "    </tr>\n",
       "    <tr>\n",
       "      <th>3</th>\n",
       "      <td>-2147483648</td>\n",
       "      <td>5642828</td>\n",
       "      <td>F</td>\n",
       "      <td>2016-04-29 17:29:31+00:00</td>\n",
       "      <td>2016-04-29 00:00:00+00:00</td>\n",
       "      <td>8</td>\n",
       "      <td>PONTAL DE CAMBURI</td>\n",
       "      <td>0</td>\n",
       "      <td>0</td>\n",
       "      <td>0</td>\n",
       "      <td>0</td>\n",
       "      <td>0</td>\n",
       "      <td>0</td>\n",
       "      <td>No</td>\n",
       "      <td>-1</td>\n",
       "    </tr>\n",
       "    <tr>\n",
       "      <th>4</th>\n",
       "      <td>-2147483648</td>\n",
       "      <td>5642494</td>\n",
       "      <td>F</td>\n",
       "      <td>2016-04-29 16:07:23+00:00</td>\n",
       "      <td>2016-04-29 00:00:00+00:00</td>\n",
       "      <td>56</td>\n",
       "      <td>JARDIM DA PENHA</td>\n",
       "      <td>0</td>\n",
       "      <td>1</td>\n",
       "      <td>1</td>\n",
       "      <td>0</td>\n",
       "      <td>0</td>\n",
       "      <td>0</td>\n",
       "      <td>No</td>\n",
       "      <td>-1</td>\n",
       "    </tr>\n",
       "  </tbody>\n",
       "</table>\n",
       "</div>"
      ],
      "text/plain": [
       "    patientid  appointmentid gender              scheduledday  \\\n",
       "0 -2147483648        5642903      F 2016-04-29 18:38:08+00:00   \n",
       "1 -2147483648        5642503      M 2016-04-29 16:08:27+00:00   \n",
       "2 -2147483648        5642549      F 2016-04-29 16:19:04+00:00   \n",
       "3 -2147483648        5642828      F 2016-04-29 17:29:31+00:00   \n",
       "4 -2147483648        5642494      F 2016-04-29 16:07:23+00:00   \n",
       "\n",
       "             appointmentday  age      neighbourhood  scholarship  \\\n",
       "0 2016-04-29 00:00:00+00:00   62    JARDIM DA PENHA            0   \n",
       "1 2016-04-29 00:00:00+00:00   56    JARDIM DA PENHA            0   \n",
       "2 2016-04-29 00:00:00+00:00   62      MATA DA PRAIA            0   \n",
       "3 2016-04-29 00:00:00+00:00    8  PONTAL DE CAMBURI            0   \n",
       "4 2016-04-29 00:00:00+00:00   56    JARDIM DA PENHA            0   \n",
       "\n",
       "   hypertension  diabetes  alcoholism  handicap  sms_received no_show  \\\n",
       "0             1         0           0         0             0      No   \n",
       "1             0         0           0         0             0      No   \n",
       "2             0         0           0         0             0      No   \n",
       "3             0         0           0         0             0      No   \n",
       "4             1         1           0         0             0      No   \n",
       "\n",
       "   awaiting_time_in_days  \n",
       "0                     -1  \n",
       "1                     -1  \n",
       "2                     -1  \n",
       "3                     -1  \n",
       "4                     -1  "
      ]
     },
     "execution_count": 12,
     "metadata": {},
     "output_type": "execute_result"
    }
   ],
   "source": [
    "df['awaiting_time_in_days']=(df.appointmentday - df.scheduledday).dt.days\n",
    "print(df.info())\n",
    "print(df['awaiting_time_in_days'].mean())\n",
    "df.head()\n",
    "\n"
   ]
  },
  {
   "cell_type": "markdown",
   "metadata": {},
   "source": [
    "On average there are 9 days between the appointment day and the scheduled day. "
   ]
  },
  {
   "cell_type": "markdown",
   "metadata": {},
   "source": [
    "### Printing of unique values to see if all the data fits"
   ]
  },
  {
   "cell_type": "markdown",
   "metadata": {},
   "source": [
    "**Patient id - unique values**"
   ]
  },
  {
   "cell_type": "code",
   "execution_count": 13,
   "metadata": {},
   "outputs": [
    {
     "name": "stdout",
     "output_type": "stream",
     "text": [
      "The unique values in the `Patient ID` column are: [0 1]\n"
     ]
    }
   ],
   "source": [
    "print('The unique values in the `Patient ID` column are: {}'.format(df['scholarship'].unique()))"
   ]
  },
  {
   "cell_type": "markdown",
   "metadata": {},
   "source": [
    "**Hypertension - unique values**"
   ]
  },
  {
   "cell_type": "code",
   "execution_count": 14,
   "metadata": {},
   "outputs": [
    {
     "name": "stdout",
     "output_type": "stream",
     "text": [
      "The unique values in the `hypertension` column are: [1 0]\n"
     ]
    }
   ],
   "source": [
    "print('The unique values in the `hypertension` column are: {}'.format(df['hypertension'].unique()))"
   ]
  },
  {
   "cell_type": "markdown",
   "metadata": {},
   "source": [
    "**Diabetes - unique values**"
   ]
  },
  {
   "cell_type": "code",
   "execution_count": 15,
   "metadata": {},
   "outputs": [
    {
     "name": "stdout",
     "output_type": "stream",
     "text": [
      "The unique values in the `Diabetes` column are: [0 1]\n"
     ]
    }
   ],
   "source": [
    "print('The unique values in the `Diabetes` column are: {}'.format(df['diabetes'].unique()))"
   ]
  },
  {
   "cell_type": "markdown",
   "metadata": {},
   "source": [
    "**Alcoholism - unique values**"
   ]
  },
  {
   "cell_type": "code",
   "execution_count": 16,
   "metadata": {},
   "outputs": [
    {
     "name": "stdout",
     "output_type": "stream",
     "text": [
      "The unique values in the `Alcoholism` column are: [0 1]\n"
     ]
    }
   ],
   "source": [
    "print('The unique values in the `Alcoholism` column are: {}'.format(df['alcoholism'].unique()))"
   ]
  },
  {
   "cell_type": "markdown",
   "metadata": {},
   "source": [
    "**Handicap - unique values**"
   ]
  },
  {
   "cell_type": "code",
   "execution_count": 17,
   "metadata": {},
   "outputs": [
    {
     "name": "stdout",
     "output_type": "stream",
     "text": [
      "The unique values in the `Handicap` column are: [0 1 2 3 4]\n"
     ]
    }
   ],
   "source": [
    "print('The unique values in the `Handicap` column are: {}'.format(df['handicap'].unique()))"
   ]
  },
  {
   "cell_type": "markdown",
   "metadata": {},
   "source": [
    "**Sms received or not - unique values**"
   ]
  },
  {
   "cell_type": "code",
   "execution_count": 18,
   "metadata": {},
   "outputs": [
    {
     "name": "stdout",
     "output_type": "stream",
     "text": [
      "The unique values in the `sms_received` column are: [0 1]\n"
     ]
    }
   ],
   "source": [
    "print('The unique values in the `sms_received` column are: {}'.format(df['sms_received'].unique()))"
   ]
  },
  {
   "cell_type": "markdown",
   "metadata": {},
   "source": [
    "**Gender - unique values**"
   ]
  },
  {
   "cell_type": "code",
   "execution_count": 19,
   "metadata": {},
   "outputs": [
    {
     "name": "stdout",
     "output_type": "stream",
     "text": [
      "The unique values in the `Gender` column are: ['F' 'M']\n"
     ]
    }
   ],
   "source": [
    "print('The unique values in the `Gender` column are: {}'.format(df['gender'].unique()))"
   ]
  },
  {
   "cell_type": "markdown",
   "metadata": {},
   "source": [
    "**Age - unique values**"
   ]
  },
  {
   "cell_type": "code",
   "execution_count": 20,
   "metadata": {},
   "outputs": [
    {
     "name": "stdout",
     "output_type": "stream",
     "text": [
      "The unique values in the `Age` column are: [ 62  56   8  76  23  39  21  19  30  29  22  28  54  15  50  40  46   4\n",
      "  13  65  45  51  32  12  61  38  79  18  63  64  85  59  55  71  49  78\n",
      "  31  58  27   6   2  11   7   0   3   1  69  68  60  67  36  10  35  20\n",
      "  26  34  33  16  42   5  47  17  41  44  37  24  66  77  81  70  53  75\n",
      "  73  52  74  43  89  57  14   9  48  83  72  25  80  87  88  84  82  90\n",
      "  94  86  91  98  92  96  93  95  97 102 115 100  99  -1]\n"
     ]
    }
   ],
   "source": [
    "print('The unique values in the `Age` column are: {}'.format(df['age'].unique()))"
   ]
  },
  {
   "cell_type": "markdown",
   "metadata": {},
   "source": [
    "No age of -1 or 0 possible so this needs to be solved. I will replace the negative values by its absolute value and the 0 ages I will replace them by 1.  "
   ]
  },
  {
   "cell_type": "code",
   "execution_count": 21,
   "metadata": {},
   "outputs": [
    {
     "name": "stdout",
     "output_type": "stream",
     "text": [
      "The unique values in the `Age` column are: [ 62  56   8  76  23  39  21  19  30  29  22  28  54  15  50  40  46   4\n",
      "  13  65  45  51  32  12  61  38  79  18  63  64  85  59  55  71  49  78\n",
      "  31  58  27   6   2  11   7   1   3  69  68  60  67  36  10  35  20  26\n",
      "  34  33  16  42   5  47  17  41  44  37  24  66  77  81  70  53  75  73\n",
      "  52  74  43  89  57  14   9  48  83  72  25  80  87  88  84  82  90  94\n",
      "  86  91  98  92  96  93  95  97 102 115 100  99]\n"
     ]
    }
   ],
   "source": [
    "# absolute values\n",
    "df['age'] = df['age'].abs()\n",
    "\n",
    "#replace 0 by 1 \n",
    "df[df['age'] == 0 ] = 1\n",
    "print('The unique values in the `Age` column are: {}'.format(df['age'].unique()))"
   ]
  },
  {
   "cell_type": "markdown",
   "metadata": {},
   "source": [
    "**Appointment_day - unique values**"
   ]
  },
  {
   "cell_type": "code",
   "execution_count": 22,
   "metadata": {},
   "outputs": [
    {
     "name": "stdout",
     "output_type": "stream",
     "text": [
      "The unique values in the `Appointment_day` column are: [Timestamp('2016-04-29 00:00:00+0000', tz='UTC') 1\n",
      " Timestamp('2016-05-03 00:00:00+0000', tz='UTC')\n",
      " Timestamp('2016-05-10 00:00:00+0000', tz='UTC')\n",
      " Timestamp('2016-05-17 00:00:00+0000', tz='UTC')\n",
      " Timestamp('2016-05-24 00:00:00+0000', tz='UTC')\n",
      " Timestamp('2016-05-31 00:00:00+0000', tz='UTC')\n",
      " Timestamp('2016-05-02 00:00:00+0000', tz='UTC')\n",
      " Timestamp('2016-05-30 00:00:00+0000', tz='UTC')\n",
      " Timestamp('2016-05-16 00:00:00+0000', tz='UTC')\n",
      " Timestamp('2016-05-04 00:00:00+0000', tz='UTC')\n",
      " Timestamp('2016-05-19 00:00:00+0000', tz='UTC')\n",
      " Timestamp('2016-05-12 00:00:00+0000', tz='UTC')\n",
      " Timestamp('2016-05-06 00:00:00+0000', tz='UTC')\n",
      " Timestamp('2016-05-20 00:00:00+0000', tz='UTC')\n",
      " Timestamp('2016-05-05 00:00:00+0000', tz='UTC')\n",
      " Timestamp('2016-05-13 00:00:00+0000', tz='UTC')\n",
      " Timestamp('2016-05-09 00:00:00+0000', tz='UTC')\n",
      " Timestamp('2016-05-25 00:00:00+0000', tz='UTC')\n",
      " Timestamp('2016-05-11 00:00:00+0000', tz='UTC')\n",
      " Timestamp('2016-05-18 00:00:00+0000', tz='UTC')\n",
      " Timestamp('2016-05-14 00:00:00+0000', tz='UTC')\n",
      " Timestamp('2016-06-02 00:00:00+0000', tz='UTC')\n",
      " Timestamp('2016-06-03 00:00:00+0000', tz='UTC')\n",
      " Timestamp('2016-06-06 00:00:00+0000', tz='UTC')\n",
      " Timestamp('2016-06-07 00:00:00+0000', tz='UTC')\n",
      " Timestamp('2016-06-01 00:00:00+0000', tz='UTC')\n",
      " Timestamp('2016-06-08 00:00:00+0000', tz='UTC')]\n"
     ]
    }
   ],
   "source": [
    "print('The unique values in the `Appointment_day` column are: {}'.format(df['appointmentday'].unique()))"
   ]
  },
  {
   "cell_type": "markdown",
   "metadata": {},
   "source": [
    "**Scheduled_day - unique values**"
   ]
  },
  {
   "cell_type": "code",
   "execution_count": 23,
   "metadata": {},
   "outputs": [
    {
     "name": "stdout",
     "output_type": "stream",
     "text": [
      "The unique values in the `Scheduled_day` column are: [Timestamp('2016-04-29 18:38:08+0000', tz='UTC')\n",
      " Timestamp('2016-04-29 16:08:27+0000', tz='UTC')\n",
      " Timestamp('2016-04-29 16:19:04+0000', tz='UTC') ...\n",
      " Timestamp('2016-04-27 16:03:52+0000', tz='UTC')\n",
      " Timestamp('2016-04-27 15:09:23+0000', tz='UTC')\n",
      " Timestamp('2016-04-27 13:30:56+0000', tz='UTC')]\n"
     ]
    }
   ],
   "source": [
    "print('The unique values in the `Scheduled_day` column are: {}'.format(df['scheduledday'].unique()))"
   ]
  },
  {
   "cell_type": "markdown",
   "metadata": {},
   "source": [
    "**Awaiting_time_in_days - unique values**"
   ]
  },
  {
   "cell_type": "code",
   "execution_count": 24,
   "metadata": {},
   "outputs": [
    {
     "name": "stdout",
     "output_type": "stream",
     "text": [
      "The unique values in the `Awaiting_time_in_days` column are: [ -1   1   2   0   3   8  28   9  22  10  17  16  13  27  23  20  14  15\n",
      "  21  42  29  30  41  31  55  44  45  38  36  37  43  49  59  51  52  64\n",
      "  66  90  65  83  77  86 114 108  62  69  71  56  57  50  58  40  72  63\n",
      "  19  48  32  33   5  34  35  11  12  39  46   7   4   6  24  25  47  26\n",
      "  18  60  54  61 175  76  68  75  88  80  78  53  67  74  84 111  -2  79\n",
      "  85  97  93  82 141 154 161 168 103 132 124  95  87  89 150 125 126 110\n",
      " 118  73  70  81 102 107 109 101 121 100 104  91  96  92 106  94  -7 138\n",
      " 131 178 116 145 122]\n"
     ]
    }
   ],
   "source": [
    "print('The unique values in the `Awaiting_time_in_days` column are: {}'.format(df['awaiting_time_in_days'].unique()))"
   ]
  },
  {
   "cell_type": "markdown",
   "metadata": {},
   "source": [
    "I will replace the negative values by its absolute value"
   ]
  },
  {
   "cell_type": "code",
   "execution_count": 25,
   "metadata": {},
   "outputs": [
    {
     "data": {
      "text/plain": [
       "array([  1,   2,   0,   3,   8,  28,   9,  22,  10,  17,  16,  13,  27,\n",
       "        23,  20,  14,  15,  21,  42,  29,  30,  41,  31,  55,  44,  45,\n",
       "        38,  36,  37,  43,  49,  59,  51,  52,  64,  66,  90,  65,  83,\n",
       "        77,  86, 114, 108,  62,  69,  71,  56,  57,  50,  58,  40,  72,\n",
       "        63,  19,  48,  32,  33,   5,  34,  35,  11,  12,  39,  46,   7,\n",
       "         4,   6,  24,  25,  47,  26,  18,  60,  54,  61, 175,  76,  68,\n",
       "        75,  88,  80,  78,  53,  67,  74,  84, 111,  79,  85,  97,  93,\n",
       "        82, 141, 154, 161, 168, 103, 132, 124,  95,  87,  89, 150, 125,\n",
       "       126, 110, 118,  73,  70,  81, 102, 107, 109, 101, 121, 100, 104,\n",
       "        91,  96,  92, 106,  94, 138, 131, 178, 116, 145, 122], dtype=int64)"
      ]
     },
     "execution_count": 25,
     "metadata": {},
     "output_type": "execute_result"
    }
   ],
   "source": [
    "# absolute values\n",
    "df['awaiting_time_in_days'] = df['awaiting_time_in_days'].abs()\n",
    "df['awaiting_time_in_days'].unique()"
   ]
  },
  {
   "cell_type": "markdown",
   "metadata": {},
   "source": [
    "<a id='eda'></a>\n",
    "## Exploratory Data Analysis\n",
    "\n",
    "\n",
    "### Research Question 1: Is there a differenc in gender distribution for show / no-show patients?"
   ]
  },
  {
   "cell_type": "markdown",
   "metadata": {},
   "source": [
    "Prepare the numbers for the graph:\n",
    "1. Total appointments male and female patients\n",
    "1. Missed appointments male and female patients\n",
    "1. Ratio of missed appointments to total appointments for both male and female patients"
   ]
  },
  {
   "cell_type": "code",
   "execution_count": 38,
   "metadata": {},
   "outputs": [],
   "source": [
    "total_f_appointments=len(df.loc[df['gender'] == 'F'])\n",
    "total_m_appointments=len(df.loc[df['gender']=='M'])\n",
    "\n",
    "missed_f_appointments=len(df.query('no_show == \"Yes\" and gender ==\"F\"'))\n",
    "missed_m_appointments=len(df.query('no_show == \"Yes\" and gender ==\"M\"'))\n",
    "\n",
    "missed_f_ratio=int((missed_f_appointments/total_f_appointments)*100)\n",
    "missed_m_ratio=int((missed_m_appointments/total_m_appointments)*100)\n",
    "\n"
   ]
  },
  {
   "cell_type": "markdown",
   "metadata": {},
   "source": [
    "Code for the graphic:"
   ]
  },
  {
   "cell_type": "code",
   "execution_count": 27,
   "metadata": {},
   "outputs": [
    {
     "data": {
      "image/png": "[encoded data removed]",
      "text/plain": [
       "<Figure size 432x288 with 1 Axes>"
      ]
     },
     "metadata": {
      "needs_background": "light"
     },
     "output_type": "display_data"
    },
    {
     "name": "stdout",
     "output_type": "stream",
     "text": [
      "Out of the 70119 total appointments made by females, 14275 were missed with the ratio of 20%.\n",
      "Out of 36869 total appointments made by males, 7405 were missed with the ratio of 20%.\n"
     ]
    }
   ],
   "source": [
    "# set width of bar\n",
    "barWidth = 0.25\n",
    " \n",
    "# set height of bar\n",
    "bars1 = [total_f_appointments,missed_f_appointments]\n",
    "bars2 = [total_m_appointments,missed_m_appointments]\n",
    "\n",
    "# Set position of bar on X axis\n",
    "r1 = np.arange(len(bars1))\n",
    "r2 = [x + barWidth for x in r1]\n",
    "\n",
    "\n",
    "# Make the plot\n",
    "plt.bar(r1, bars1, color='#8B008B', width=barWidth, edgecolor='white', label='No')\n",
    "plt.bar(r2, bars2, color='#FF8C00', width=barWidth, edgecolor='white', label='Yes')\n",
    " \n",
    "# Add xticks \n",
    "plt.xlabel('Gender', fontweight='bold')\n",
    "plt.ylabel('Count')\n",
    "plt.xticks([r + barWidth for r in range(len(bars1))], ['Female', 'Male'])\n",
    "\n",
    "plt.title('Show/ No-show for Females and Males')\n",
    "\n",
    "# Create legend & Show graphic\n",
    "plt.legend(title='No_show')\n",
    "plt.show()\n",
    "\n",
    "print('Out of the {} total appointments made by females, {} were missed with the ratio of {}%.'.format(total_f_appointments, missed_f_appointments, missed_f_ratio))\n",
    "print('Out of {} total appointments made by males, {} were missed with the ratio of {}%.'.format(total_m_appointments, missed_m_appointments, missed_m_ratio))"
   ]
  },
  {
   "cell_type": "markdown",
   "metadata": {},
   "source": [
    "I do not find how to put the female and male x-ticks in the middle. "
   ]
  },
  {
   "cell_type": "markdown",
   "metadata": {},
   "source": [
    "### Research Question 2 : Do the no-shows have a larger timeframe between schedule date and appointment date?"
   ]
  },
  {
   "cell_type": "markdown",
   "metadata": {},
   "source": [
    "Investigate the timeframe between schedule date and appointment date"
   ]
  },
  {
   "cell_type": "code",
   "execution_count": 28,
   "metadata": {},
   "outputs": [
    {
     "data": {
      "text/plain": [
       "count    110527.000000\n",
       "mean          9.577732\n",
       "std          14.667967\n",
       "min           0.000000\n",
       "25%           1.000000\n",
       "50%           3.000000\n",
       "75%          13.000000\n",
       "max         178.000000\n",
       "Name: awaiting_time_in_days, dtype: float64"
      ]
     },
     "execution_count": 28,
     "metadata": {},
     "output_type": "execute_result"
    }
   ],
   "source": [
    "df['awaiting_time_in_days'].describe()\n"
   ]
  },
  {
   "cell_type": "markdown",
   "metadata": {},
   "source": [
    "Make bins for low- , medium-, moderate_high- and high-time between schedule date and appointment date. These bins will be used to possibly correlate between absence to a doctors appointment and time between schedule and appointment date. "
   ]
  },
  {
   "cell_type": "code",
   "execution_count": 29,
   "metadata": {},
   "outputs": [],
   "source": [
    "# code to make the bins of awaiting time in days \n",
    "bin_edges=[-1,1,3,14,178]\n",
    "bin_names=['low','medium','moderate_high','high']\n",
    "\n",
    "df['awaiting_time_in_days_category']=pd.cut(df['awaiting_time_in_days'], bin_edges, labels= bin_names)\n"
   ]
  },
  {
   "cell_type": "markdown",
   "metadata": {},
   "source": [
    "Prepare the numbers for the graph:\n",
    "1. Total appointments with high, moderate_high, medium and low awaiting time \n",
    "1. Missed appointments with high, moderate_high, medium and low awaiting time \n",
    "1. Ratio of missed appointments to total appointments with high, moderate_high, medium and low awaiting time "
   ]
  },
  {
   "cell_type": "code",
   "execution_count": 30,
   "metadata": {},
   "outputs": [],
   "source": [
    "\n",
    "total_appointments_high_awaiting_time=len(df.loc[df['awaiting_time_in_days_category'] == 'high'])\n",
    "total_appointments_moderate_high_awaiting_time=len(df.loc[df['awaiting_time_in_days_category'] == 'moderate_high'])\n",
    "total_appointments_medium_awaiting_time=len(df.loc[df['awaiting_time_in_days_category'] == 'medium'])\n",
    "total_appointments_low_awaiting_time=len(df.loc[df['awaiting_time_in_days_category'] == 'low'])\n",
    "\n",
    "missed_appointments_high_waiting_time=len(df.query('no_show == \"Yes\" and awaiting_time_in_days_category ==\"high\"'))\n",
    "missed_appointments_moderate_high_waiting_time=len(df.query('no_show == \"Yes\" and awaiting_time_in_days_category ==\"moderate_high\"'))\n",
    "missed_appointments_medium_waiting_time=len(df.query('no_show == \"Yes\" and awaiting_time_in_days_category ==\"medium\"'))\n",
    "missed_appointments_low_waiting_time=len(df.query('no_show == \"Yes\" and awaiting_time_in_days_category ==\"low\"'))\n",
    "\n",
    "missed_ratio_high_waiting_time=int((missed_appointments_high_waiting_time/total_appointments_high_awaiting_time)*100)\n",
    "missed_ratio_moderate_high_time=int((missed_appointments_moderate_high_waiting_time/total_appointments_moderate_high_awaiting_time)*100)\n",
    "missed_ratio_medium_waiting_time=int((missed_appointments_medium_waiting_time/total_appointments_medium_awaiting_time)*100)\n",
    "missed_ratio_low_waiting_time=int((missed_appointments_low_waiting_time/total_appointments_low_awaiting_time)*100)\n",
    "\n",
    "\n",
    "\n",
    "\n"
   ]
  },
  {
   "cell_type": "markdown",
   "metadata": {},
   "source": [
    "Code for the graphic"
   ]
  },
  {
   "cell_type": "code",
   "execution_count": 31,
   "metadata": {
    "scrolled": true
   },
   "outputs": [
    {
     "data": {
      "image/png": "[encoded data removed]",
      "text/plain": [
       "<Figure size 432x288 with 1 Axes>"
      ]
     },
     "metadata": {
      "needs_background": "light"
     },
     "output_type": "display_data"
    }
   ],
   "source": [
    "locations = [1,2,3,4]\n",
    "heights = [missed_ratio_low_waiting_time,missed_ratio_medium_waiting_time,missed_ratio_moderate_high_time,missed_ratio_high_waiting_time]\n",
    "labels = ['low', 'medium', 'moderate high', 'high']\n",
    "colors = [ 'green', 'blue', 'cyan', 'red'] \n",
    "\n",
    "\n",
    "plt.bar(locations, heights, tick_label = labels, color=colors)\n",
    "plt.title('Percentage of absence to appointment in function of waiting time between appointment day and the scheduled day')\n",
    "plt.xlabel ('Duration waiting time between appointment day and schedualed day')\n",
    "plt.ylabel ('Percentage of absence to appointments (%)');\n",
    "\n"
   ]
  },
  {
   "cell_type": "markdown",
   "metadata": {},
   "source": [
    "Small conclusion:"
   ]
  },
  {
   "cell_type": "code",
   "execution_count": 37,
   "metadata": {},
   "outputs": [
    {
     "name": "stdout",
     "output_type": "stream",
     "text": [
      "A high time difference between the appointment day and the scheduled day increases 4.0 times the chance of missing an appointment compared to a low time difference between the actual scheduled day and the appointment day.\n"
     ]
    }
   ],
   "source": [
    "da= missed_ratio_high_waiting_time/missed_ratio_low_waiting_time\n",
    "print('A high time difference between the appointment day and the scheduled day increases {} times the chance of missing an appointment compared to a low time difference between the actual scheduled day and the appointment day.'.format(da))"
   ]
  },
  {
   "cell_type": "markdown",
   "metadata": {},
   "source": [
    "<a id='conclusions'></a>\n",
    "## Conclusions\n",
    "\n",
    "Firstly, I unified names, corrected typos, converted to correct  datatypes, fixed wrong data and I added a new feature based on existing data. \n",
    "\n",
    "Secondly, I addressed two questions and answered these questions with employing a graphic.\n",
    "\n",
    "In a first question I identified whether there is a gender difference in the shows/no-shows at the doctors appointment. \n",
    "From the data I diagnosed that:\n",
    "1. Out of the 70119 total appointments made by females, 14275 were missed with the ratio of 20%.\n",
    "1. Out of 36869 total appointments made by males, 7405 were missed with the ratio of 20%.\n",
    "This indicates that there is no gender difference in the shows/no-shows at the doctors appointments within the dataset.\n",
    "\n",
    "In a second question I addressed whether the no-shows have a larger timeframe between schedule date and appointment date.\n",
    "From the data I could conclude that: \n",
    "\n",
    "A high time difference between the appointment day and the scheduled day increases 4.0 times the chance of missing an appointment compared to a low time difference between the actual scheduled day and the appointment day.\n"
   ]
  }
 ],
 "metadata": {
  "kernelspec": {
   "display_name": "Python 3",
   "language": "python",
   "name": "python3"
  },
  "language_info": {
   "codemirror_mode": {
    "name": "ipython",
    "version": 3
   },
   "file_extension": ".py",
   "mimetype": "text/x-python",
   "name": "python",
   "nbconvert_exporter": "python",
   "pygments_lexer": "ipython3",
   "version": "3.7.6"
  }
 },
 "nbformat": 4,
 "nbformat_minor": 2
}
